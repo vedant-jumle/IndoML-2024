{
 "cells": [
  {
   "cell_type": "code",
   "execution_count": null,
   "metadata": {},
   "outputs": [],
   "source": [
    "from unsloth import FastLanguageModel\n",
    "from peft import LoraConfig\n",
    "from jinja2 import Template\n",
    "from datasets import load_dataset\n",
    "\n",
    "import torch\n",
    "\n",
    "max_seq_length = 150 # Choose any! We auto support RoPE Scaling internally!\n",
    "dtype = torch.bfloat16 # None for auto detection. Float16 for Tesla T4, V100, Bfloat16 for Ampere+\n",
    "load_in_4bit = True # Use 4bit quantization to reduce memory usage. Can be False."
   ]
  },
  {
   "cell_type": "code",
   "execution_count": null,
   "metadata": {},
   "outputs": [],
   "source": [
    "model, tokenizer = FastLanguageModel.from_pretrained(\n",
    "    model_name = \"google/gemma-2b\",\n",
    "    max_seq_length = max_seq_length,\n",
    "    dtype = dtype,\n",
    "    load_in_4bit = load_in_4bit,\n",
    "    # token = \"hf_...\", # use one if using gated models like meta-llama/Llama-2-7b-hf\n",
    ")"
   ]
  },
  {
   "cell_type": "markdown",
   "metadata": {},
   "source": [
    "### Direct Inference Using prompts"
   ]
  },
  {
   "cell_type": "code",
   "execution_count": 88,
   "metadata": {},
   "outputs": [],
   "source": [
    "import json\n",
    "import os\n",
    "import ollama\n",
    "import regex as re\n",
    "from random import choices\n",
    "from tqdm import tqdm\n",
    "from yaml import safe_load\n"
   ]
  },
  {
   "cell_type": "code",
   "execution_count": 86,
   "metadata": {},
   "outputs": [],
   "source": [
    "def load_jsonl(path):\n",
    "    with open(path) as input_file:\n",
    "        lines = list(map(json.loads, input_file))\n",
    "\n",
    "    return lines\n",
    "\n",
    "def load_data(root_path):\n",
    "    files = os.listdir(root_path)\n",
    "    dataset= {}\n",
    "\n",
    "    for filename in files:\n",
    "        filepath = root_path + f'/{filename}'\n",
    "\n",
    "        dataset[filename] = load_jsonl(filepath)\n",
    "\n",
    "    return dataset\n",
    "\n",
    "\n",
    "def parse_json(input_string) -> dict:\n",
    "    pattern = re.compile(r'\\{(?:[^{}]|(?R))*\\}')\n",
    "    return safe_load(pattern.findall(input_string)[0])\n"
   ]
  },
  {
   "cell_type": "code",
   "execution_count": 10,
   "metadata": {},
   "outputs": [],
   "source": [
    "dataset = load_data('data/L1')"
   ]
  },
  {
   "cell_type": "code",
   "execution_count": 11,
   "metadata": {},
   "outputs": [],
   "source": [
    "models = ['llama3.1', 'gemma2:2b', 'gemma2']\n",
    "\n",
    "test_from = 'attrebute_val'\n",
    "train_from = 'attrebute_train'\n",
    "target_from = 'attrebute_test'\n",
    "\n",
    "train_inputs = train_from + '.data'\n",
    "train_labels = train_from + '.solution'\n",
    "\n",
    "test_inputs = test_from + '.data'\n",
    "test_labels = test_from + '.solution'\n",
    "\n",
    "target_inputs = target_from + '.data'\n",
    "\n",
    "test_inputs = dataset[test_inputs]\n",
    "test_labels = dataset[test_labels]\n",
    "train_inputs = dataset[train_inputs]\n",
    "train_labels = dataset[train_labels]\n",
    "target_inputs = dataset[target_inputs]"
   ]
  },
  {
   "cell_type": "code",
   "execution_count": 67,
   "metadata": {},
   "outputs": [],
   "source": [
    "def get_random_examples(k=3):\n",
    "    indexes = choices(range(len(train_inputs)), k=3)\n",
    "\n",
    "    data = [(train_inputs[idx], train_labels[idx]) for idx in indexes]\n",
    "\n",
    "    examples = {}\n",
    "\n",
    "    for i, idx in enumerate(indexes):\n",
    "        inputs, labels = json.dumps(train_inputs[idx]), json.dumps(train_labels[idx])\n",
    "\n",
    "        examples[f'example_{i+1}'] = f\"\"\"Product:\\n{inputs}\\nCategories:\\n{labels}\"\"\"\n",
    "\n",
    "    return examples"
   ]
  },
  {
   "cell_type": "code",
   "execution_count": 131,
   "metadata": {},
   "outputs": [],
   "source": [
    "# template_full_prompt = \"\"\"<|system|>You are a product expert who can tell what categories a product belongs to. You only answer in JSON<|end|>\n",
    "# <|user|>\n",
    "# You are a product expert who can tell what categories a product belongs to. You only answer in JSON\n",
    "\n",
    "# I want you to help me with giving category labels to products based on the product's title, manufacturer, and store name.\n",
    "# details_Brand, L0_category, L1_category, L2_category, L3_category, L4_category: These are the attribute that has to be predicted.\n",
    "# Here are 3 examples of what I want you to do:\n",
    "# 1.\n",
    "# {example_1}\n",
    "\n",
    "# 2.\n",
    "# {example_2}\n",
    "\n",
    "# 3.\n",
    "# {example_3}\n",
    "\n",
    "# Based on the previous examples and instructions, complete the following:\n",
    "# Product:\n",
    "# {product}\n",
    "# Categories:\n",
    "# <|end|>\n",
    "# <|assistant|>\"\"\"\n",
    "\n",
    "template_full_prompt = \"\"\"<start_of_turn>user\n",
    "You are a product expert who can tell what categories a product belongs to. You only answer in JSON\n",
    "\n",
    "I want you to help me with giving category labels to products based on the product's title, manufacturer, and store name.\n",
    "details_Brand, L0_category, L1_category, L2_category, L3_category, L4_category: These are the attribute that has to be predicted.\n",
    "L0 being the most general category label possible for the product\n",
    "L1 being a more specific subcategory of L0\n",
    "L2 being a more specific subcategory of L1\n",
    "L3 being a more specific subcategory of L2 ('na' if this does not apply)\n",
    "L4 being a more specific subcategory of L3 ('na' if this does not apply or if L3 is also 'na')\n",
    "\n",
    "How to reason:\n",
    "Example Product:\n",
    "\"indoml_id\": 275, \"title\": \"Cascade Actionpacs Dishwasher Detergent, Fresh Scent, 110 Count\", \"store\": \"Cascade\", \"details_Manufacturer\": \"Cascade\"\n",
    "\n",
    "Categories:\n",
    "\"indoml_id\": 275, \"details_Brand\": \"Cascade\", \"L0_category\": \"Health & Household\", \"L1_category\": \"Household Supplies\", \"L2_category\": \"Dishwashing\", \"L3_category\": \"Dishwasher Detergent\", \"L4_category\": \"na\"\n",
    "\n",
    "L0 is Health & Household because a Dishwasher Detergent is used with dishwashers, which is a health & household appliance\n",
    "L1 is Household Supplies as dishwashers are household appliances\n",
    "L2 is Dishwashing as Dishwashers wash dishes\n",
    "L3 is Dishwasher Detergent as the product Dishwasher detergence\n",
    "L4 is na as it does not apply\n",
    "\n",
    "Here are 3 more examples of what I want you to do:\n",
    "1.\n",
    "{example_1}\n",
    "\n",
    "2.\n",
    "{example_2}\n",
    "\n",
    "3.\n",
    "{example_3}\n",
    "\n",
    "Based on the previous examples and instructions, complete the following:\n",
    "Product:\n",
    "{product}\n",
    "Categories:\n",
    "<end_of_turn>\n",
    "<start_of_turn>model\"\"\""
   ]
  },
  {
   "cell_type": "code",
   "execution_count": 132,
   "metadata": {},
   "outputs": [
    {
     "data": {
      "text/plain": [
       "({'indoml_id': 94990,\n",
       "  'title': 'VIGO Janus Glass Vessel Bathroom Sink and Waterfall Faucet with Pop Up, Chrome',\n",
       "  'store': 'VIGO',\n",
       "  'details_Manufacturer': 'Vigo Industries'},\n",
       " {'indoml_id': 94990,\n",
       "  'details_Brand': 'VIGO',\n",
       "  'L0_category': 'Tools & Home Improvement',\n",
       "  'L1_category': 'Kitchen & Bath Fixtures',\n",
       "  'L2_category': 'Bathroom Fixtures',\n",
       "  'L3_category': 'Bathroom Sinks',\n",
       "  'L4_category': 'Vessel Sinks'})"
      ]
     },
     "execution_count": 132,
     "metadata": {},
     "output_type": "execute_result"
    }
   ],
   "source": [
    "idx = -45\n",
    "test_inputs[idx], test_labels[idx]"
   ]
  },
  {
   "cell_type": "code",
   "execution_count": 133,
   "metadata": {},
   "outputs": [],
   "source": [
    "output = ollama.generate(\n",
    "    model='gemma2:2b', \n",
    "    prompt=template_full_prompt.format(\n",
    "        product=json.dumps(test_inputs[idx]), **get_random_examples()))"
   ]
  },
  {
   "cell_type": "code",
   "execution_count": 134,
   "metadata": {},
   "outputs": [
    {
     "data": {
      "text/plain": [
       "{'indoml_id': 94990,\n",
       " 'details_Brand': 'Vigo Industries',\n",
       " 'L0_category': 'Home & Kitchen',\n",
       " 'L1_category': 'Bathroom Fixtures',\n",
       " 'L2_category': 'Sinks',\n",
       " 'L3_category': 'Vessel Sinks',\n",
       " 'L4_category': 'Bathroom Sinks'}"
      ]
     },
     "execution_count": 134,
     "metadata": {},
     "output_type": "execute_result"
    }
   ],
   "source": [
    "parse_json(output['response'])"
   ]
  }
 ],
 "metadata": {
  "kernelspec": {
   "display_name": "unsloth",
   "language": "python",
   "name": "python3"
  },
  "language_info": {
   "codemirror_mode": {
    "name": "ipython",
    "version": 3
   },
   "file_extension": ".py",
   "mimetype": "text/x-python",
   "name": "python",
   "nbconvert_exporter": "python",
   "pygments_lexer": "ipython3",
   "version": "3.10.14"
  }
 },
 "nbformat": 4,
 "nbformat_minor": 2
}
